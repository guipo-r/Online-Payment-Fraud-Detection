{
 "cells": [
  {
   "cell_type": "markdown",
   "id": "5aefcc0e",
   "metadata": {},
   "source": [
    "# _Online Payment Fraud Detection_"
   ]
  },
  {
   "cell_type": "markdown",
   "id": "038ff650",
   "metadata": {},
   "source": [
    "**Fraud is one of the major issues we come up nowadays in banks, insurance companies, among others. Lately, one fraud that has ben increasing significantly is that occurring during payments.** \n",
    "\n",
    "**For this project, I will develop distinct classification models, using machine learning, that should help us detect fraud cases in the future.**"
   ]
  },
  {
   "cell_type": "markdown",
   "id": "05995a13",
   "metadata": {},
   "source": [
    "## Imports"
   ]
  },
  {
   "cell_type": "code",
   "execution_count": 1,
   "id": "30703706",
   "metadata": {},
   "outputs": [
    {
     "name": "stdout",
     "output_type": "stream",
     "text": [
      "Defaulting to user installation because normal site-packages is not writeable\n",
      "Requirement already satisfied: xgboost in c:\\users\\guido rocatti\\appdata\\roaming\\python\\python39\\site-packages (1.7.6)\n",
      "Requirement already satisfied: scipy in c:\\programdata\\anaconda3\\lib\\site-packages (from xgboost) (1.9.1)\n",
      "Requirement already satisfied: numpy in c:\\programdata\\anaconda3\\lib\\site-packages (from xgboost) (1.23.5)\n"
     ]
    }
   ],
   "source": [
    "!pip install xgboost"
   ]
  },
  {
   "cell_type": "code",
   "execution_count": 41,
   "id": "2bf82337",
   "metadata": {},
   "outputs": [],
   "source": [
    "import pandas as pd\n",
    "\n",
    "import matplotlib as mpl\n",
    "import matplotlib.pyplot as plt\n",
    "import seaborn as sns\n",
    "\n",
    "from sklearn.preprocessing import LabelEncoder\n",
    "\n",
    "from sklearn.model_selection import train_test_split, RandomizedSearchCV\n",
    "from sklearn.linear_model import LogisticRegression\n",
    "\n",
    "from sklearn.metrics import accuracy_score, confusion_matrix, mean_squared_error, classification_report\n",
    "\n",
    "import xgboost as xgb"
   ]
  },
  {
   "cell_type": "markdown",
   "id": "2e232eee",
   "metadata": {},
   "source": [
    "## Constants"
   ]
  },
  {
   "cell_type": "markdown",
   "id": "fba5319a",
   "metadata": {},
   "source": [
    "**Colors**"
   ]
  },
  {
   "cell_type": "code",
   "execution_count": 3,
   "id": "e8030251",
   "metadata": {},
   "outputs": [],
   "source": [
    "# Payment method color list\n",
    "payment_col = ['#8e44ad', '#1abc9c', '#f1c40f']\n",
    "\n",
    "# Payment method color dictionary\n",
    "\n",
    "payment_col_dict = {\n",
    "    'paypal':'#8e44ad',\n",
    "    'storecredit':'#1abc9c',\n",
    "    'creditcard':'#f1c40f'\n",
    "}"
   ]
  },
  {
   "cell_type": "code",
   "execution_count": 4,
   "id": "d2022de2",
   "metadata": {},
   "outputs": [],
   "source": [
    "# Fraud label colors\n",
    "fraud_col = ['#3498db','#e74c3c']\n",
    "\n",
    "# Fraud label dictionary\n",
    "fraud_col_dict = {\n",
    "    0:'#3498db',\n",
    "    1:'#e74c3c'\n",
    "}\n",
    "\n",
    "# Fraud Hue Order\n",
    "fraud_order = [0, 1]"
   ]
  },
  {
   "cell_type": "markdown",
   "id": "39075931",
   "metadata": {},
   "source": [
    "## Data Load"
   ]
  },
  {
   "cell_type": "code",
   "execution_count": 6,
   "id": "92e58b35",
   "metadata": {},
   "outputs": [],
   "source": [
    "data = pd.read_csv('https://raw.githubusercontent.com/amankharwal/Website-data/master/payment_fraud.csv', sep = ',')"
   ]
  },
  {
   "cell_type": "markdown",
   "id": "8c98179e",
   "metadata": {},
   "source": [
    "## Data Exploration and Transformation"
   ]
  },
  {
   "cell_type": "markdown",
   "id": "a5da9e4b",
   "metadata": {},
   "source": [
    "**Dataset Size**"
   ]
  },
  {
   "cell_type": "code",
   "execution_count": 7,
   "id": "19c05798",
   "metadata": {},
   "outputs": [
    {
     "data": {
      "text/plain": [
       "(39221, 6)"
      ]
     },
     "execution_count": 7,
     "metadata": {},
     "output_type": "execute_result"
    }
   ],
   "source": [
    "data.shape"
   ]
  },
  {
   "cell_type": "code",
   "execution_count": 8,
   "id": "c15cbab8",
   "metadata": {},
   "outputs": [
    {
     "data": {
      "text/plain": [
       "Index(['accountAgeDays', 'numItems', 'localTime', 'paymentMethod',\n",
       "       'paymentMethodAgeDays', 'label'],\n",
       "      dtype='object')"
      ]
     },
     "execution_count": 8,
     "metadata": {},
     "output_type": "execute_result"
    }
   ],
   "source": [
    "data.columns"
   ]
  },
  {
   "cell_type": "code",
   "execution_count": 9,
   "id": "7921ecf1",
   "metadata": {},
   "outputs": [
    {
     "data": {
      "text/html": [
       "<div>\n",
       "<style scoped>\n",
       "    .dataframe tbody tr th:only-of-type {\n",
       "        vertical-align: middle;\n",
       "    }\n",
       "\n",
       "    .dataframe tbody tr th {\n",
       "        vertical-align: top;\n",
       "    }\n",
       "\n",
       "    .dataframe thead th {\n",
       "        text-align: right;\n",
       "    }\n",
       "</style>\n",
       "<table border=\"1\" class=\"dataframe\">\n",
       "  <thead>\n",
       "    <tr style=\"text-align: right;\">\n",
       "      <th></th>\n",
       "      <th>accountAgeDays</th>\n",
       "      <th>numItems</th>\n",
       "      <th>localTime</th>\n",
       "      <th>paymentMethod</th>\n",
       "      <th>paymentMethodAgeDays</th>\n",
       "      <th>label</th>\n",
       "    </tr>\n",
       "  </thead>\n",
       "  <tbody>\n",
       "    <tr>\n",
       "      <th>0</th>\n",
       "      <td>29</td>\n",
       "      <td>1</td>\n",
       "      <td>4.745402</td>\n",
       "      <td>paypal</td>\n",
       "      <td>28.204861</td>\n",
       "      <td>0</td>\n",
       "    </tr>\n",
       "    <tr>\n",
       "      <th>1</th>\n",
       "      <td>725</td>\n",
       "      <td>1</td>\n",
       "      <td>4.742303</td>\n",
       "      <td>storecredit</td>\n",
       "      <td>0.000000</td>\n",
       "      <td>0</td>\n",
       "    </tr>\n",
       "  </tbody>\n",
       "</table>\n",
       "</div>"
      ],
      "text/plain": [
       "   accountAgeDays  numItems  localTime paymentMethod  paymentMethodAgeDays  \\\n",
       "0              29         1   4.745402        paypal             28.204861   \n",
       "1             725         1   4.742303   storecredit              0.000000   \n",
       "\n",
       "   label  \n",
       "0      0  \n",
       "1      0  "
      ]
     },
     "execution_count": 9,
     "metadata": {},
     "output_type": "execute_result"
    }
   ],
   "source": [
    "data.head(2)"
   ]
  },
  {
   "cell_type": "markdown",
   "id": "606c2b3f",
   "metadata": {},
   "source": [
    "**Check Data Types**"
   ]
  },
  {
   "cell_type": "code",
   "execution_count": 10,
   "id": "37a972cf",
   "metadata": {},
   "outputs": [
    {
     "name": "stdout",
     "output_type": "stream",
     "text": [
      "<class 'pandas.core.frame.DataFrame'>\n",
      "RangeIndex: 39221 entries, 0 to 39220\n",
      "Data columns (total 6 columns):\n",
      " #   Column                Non-Null Count  Dtype  \n",
      "---  ------                --------------  -----  \n",
      " 0   accountAgeDays        39221 non-null  int64  \n",
      " 1   numItems              39221 non-null  int64  \n",
      " 2   localTime             39221 non-null  float64\n",
      " 3   paymentMethod         39221 non-null  object \n",
      " 4   paymentMethodAgeDays  39221 non-null  float64\n",
      " 5   label                 39221 non-null  int64  \n",
      "dtypes: float64(2), int64(3), object(1)\n",
      "memory usage: 1.8+ MB\n"
     ]
    }
   ],
   "source": [
    "data.info()"
   ]
  },
  {
   "cell_type": "markdown",
   "id": "ae98cf86",
   "metadata": {},
   "source": [
    "**Check null values**"
   ]
  },
  {
   "cell_type": "code",
   "execution_count": 11,
   "id": "24a8846a",
   "metadata": {},
   "outputs": [
    {
     "data": {
      "text/plain": [
       "accountAgeDays          0\n",
       "numItems                0\n",
       "localTime               0\n",
       "paymentMethod           0\n",
       "paymentMethodAgeDays    0\n",
       "label                   0\n",
       "dtype: int64"
      ]
     },
     "execution_count": 11,
     "metadata": {},
     "output_type": "execute_result"
    }
   ],
   "source": [
    "data.isnull().sum()"
   ]
  },
  {
   "cell_type": "markdown",
   "id": "9d99a783",
   "metadata": {},
   "source": [
    "_**There are no null cases in the dataset**_"
   ]
  },
  {
   "cell_type": "markdown",
   "id": "1b280b87",
   "metadata": {},
   "source": [
    "### Check Payment Method Values"
   ]
  },
  {
   "cell_type": "code",
   "execution_count": 12,
   "id": "3ecaa439",
   "metadata": {
    "scrolled": true
   },
   "outputs": [
    {
     "data": {
      "text/plain": [
       "array(['paypal', 'storecredit', 'creditcard'], dtype=object)"
      ]
     },
     "execution_count": 12,
     "metadata": {},
     "output_type": "execute_result"
    }
   ],
   "source": [
    "data['paymentMethod'].unique()"
   ]
  },
  {
   "cell_type": "code",
   "execution_count": 13,
   "id": "fe8179f5",
   "metadata": {},
   "outputs": [
    {
     "data": {
      "image/png": "[encoded data removed]",
      "text/plain": [
       "<Figure size 640x480 with 1 Axes>"
      ]
     },
     "metadata": {},
     "output_type": "display_data"
    }
   ],
   "source": [
    "sns.set_style('white')\n",
    "\n",
    "fig = sns.histplot(data=data, x='paymentMethod', stat='count', \n",
    "                   hue = 'paymentMethod', palette= payment_col_dict)\n",
    "\n",
    "fig.set_title('Payment Method Frequencies', fontsize=18)\n",
    "fig.set_xlabel('Payment Method')\n",
    "fig.set_ylabel('Count')\n",
    "\n",
    "for n in range(3):\n",
    "    fig.bar_label(fig.containers[n])"
   ]
  },
  {
   "cell_type": "markdown",
   "id": "bd91067d",
   "metadata": {},
   "source": [
    "### 'PaymentMethod' Label Encoding"
   ]
  },
  {
   "cell_type": "code",
   "execution_count": 14,
   "id": "d00e3573",
   "metadata": {},
   "outputs": [
    {
     "name": "stdout",
     "output_type": "stream",
     "text": [
      "creditcard     28004\n",
      "paypal          9303\n",
      "storecredit     1914\n",
      "Name: paymentMethod, dtype: int64\n",
      "0    28004\n",
      "1     9303\n",
      "2     1914\n",
      "Name: paymentEncoded, dtype: int64\n"
     ]
    }
   ],
   "source": [
    "label_encoder = LabelEncoder()\n",
    "\n",
    "data['paymentEncoded'] = label_encoder.fit_transform(\n",
    "    data['paymentMethod'])\n",
    "\n",
    "print(data['paymentMethod'].value_counts())\n",
    "print(data['paymentEncoded'].value_counts())"
   ]
  },
  {
   "cell_type": "markdown",
   "id": "118fca6a",
   "metadata": {},
   "source": [
    "#### PaymentMethod was encoded like this:\n",
    "- **Credit Card** = 0 (28004 instances)\n",
    "- **PayPal** = 1 (9303 instances)\n",
    "- **Store Credit** = 2 (1914 instances)"
   ]
  },
  {
   "cell_type": "markdown",
   "id": "e62c8406",
   "metadata": {},
   "source": [
    "**Fraud Count by Payment Method**"
   ]
  },
  {
   "cell_type": "code",
   "execution_count": 15,
   "id": "94bfb943",
   "metadata": {
    "scrolled": true
   },
   "outputs": [
    {
     "data": {
      "text/plain": [
       "False    38811\n",
       "True       410\n",
       "dtype: int64"
      ]
     },
     "execution_count": 15,
     "metadata": {},
     "output_type": "execute_result"
    }
   ],
   "source": [
    "# Credit Card Fraud Count\n",
    "card_fraud = (data['label'] == 1) & (data['paymentEncoded'] == 0)\n",
    "card_fraud.value_counts()"
   ]
  },
  {
   "cell_type": "code",
   "execution_count": 16,
   "id": "49cad1ca",
   "metadata": {},
   "outputs": [
    {
     "data": {
      "text/plain": [
       "False    39092\n",
       "True       129\n",
       "dtype: int64"
      ]
     },
     "execution_count": 16,
     "metadata": {},
     "output_type": "execute_result"
    }
   ],
   "source": [
    "# PayPal Fraud Count\n",
    "paypal_fraud = (data['label'] == 1) & (data['paymentEncoded'] == 1)\n",
    "paypal_fraud.value_counts()"
   ]
  },
  {
   "cell_type": "code",
   "execution_count": 17,
   "id": "35936097",
   "metadata": {},
   "outputs": [
    {
     "data": {
      "text/plain": [
       "False    39200\n",
       "True        21\n",
       "dtype: int64"
      ]
     },
     "execution_count": 17,
     "metadata": {},
     "output_type": "execute_result"
    }
   ],
   "source": [
    "# Store Credit Fraud Count\n",
    "store_fraud = (data['label'] == 1) & (data['paymentEncoded'] == 2)\n",
    "store_fraud.value_counts()"
   ]
  },
  {
   "cell_type": "markdown",
   "id": "1d64d6f7",
   "metadata": {},
   "source": [
    "## Logistic Regression - Fraud Detection Model"
   ]
  },
  {
   "cell_type": "markdown",
   "id": "e5018366",
   "metadata": {},
   "source": [
    "**Check fraud labels distribution in data**"
   ]
  },
  {
   "cell_type": "code",
   "execution_count": 18,
   "id": "39f4d375",
   "metadata": {},
   "outputs": [
    {
     "data": {
      "text/plain": [
       "0    38661\n",
       "1      560\n",
       "Name: label, dtype: int64"
      ]
     },
     "execution_count": 18,
     "metadata": {},
     "output_type": "execute_result"
    }
   ],
   "source": [
    "data.label.value_counts()"
   ]
  },
  {
   "cell_type": "markdown",
   "id": "b70c5281",
   "metadata": {},
   "source": [
    "The dataset seems to be unbalanced. Only 1.2% of the data are labelled as Fraud."
   ]
  },
  {
   "cell_type": "markdown",
   "id": "cf3a4194",
   "metadata": {},
   "source": [
    "**Target variable**"
   ]
  },
  {
   "cell_type": "code",
   "execution_count": 19,
   "id": "c64d0ef0",
   "metadata": {},
   "outputs": [],
   "source": [
    "y = data['label']"
   ]
  },
  {
   "cell_type": "markdown",
   "id": "d5246d36",
   "metadata": {},
   "source": [
    "**Features**"
   ]
  },
  {
   "cell_type": "code",
   "execution_count": 20,
   "id": "80608a37",
   "metadata": {},
   "outputs": [],
   "source": [
    "X = data.drop(['paymentMethod','label'], axis=1, inplace = False)"
   ]
  },
  {
   "cell_type": "markdown",
   "id": "3c5641e1",
   "metadata": {},
   "source": [
    "**Split Dataset into Train and Test subsets**"
   ]
  },
  {
   "cell_type": "code",
   "execution_count": 21,
   "id": "214a310c",
   "metadata": {},
   "outputs": [
    {
     "name": "stdout",
     "output_type": "stream",
     "text": [
      "X Train subset size: (31376, 5)\n",
      "X Test subset size: (7845, 5)\n",
      "Y Train subset size: (31376,)\n",
      "Y Test subset size: (7845,)\n"
     ]
    }
   ],
   "source": [
    "X_train, X_test, y_train, y_test = train_test_split(X, y, test_size = 0.2, random_state = 42)\n",
    "\n",
    "print(f\"X Train subset size: {X_train.shape}\")\n",
    "print(f\"X Test subset size: {X_test.shape}\")\n",
    "print(f\"Y Train subset size: {y_train.shape}\")\n",
    "print(f\"Y Test subset size: {y_test.shape}\")"
   ]
  },
  {
   "cell_type": "markdown",
   "id": "69ee9ca5",
   "metadata": {},
   "source": [
    "**Create and Train Model 1**"
   ]
  },
  {
   "cell_type": "code",
   "execution_count": 22,
   "id": "348c77a7",
   "metadata": {},
   "outputs": [],
   "source": [
    "model1 = LogisticRegression()"
   ]
  },
  {
   "cell_type": "code",
   "execution_count": 23,
   "id": "06c402e2",
   "metadata": {},
   "outputs": [
    {
     "data": {
      "text/plain": [
       "LogisticRegression()"
      ]
     },
     "execution_count": 23,
     "metadata": {},
     "output_type": "execute_result"
    }
   ],
   "source": [
    "model1.fit(X_train, y_train)"
   ]
  },
  {
   "cell_type": "markdown",
   "id": "52639e18",
   "metadata": {},
   "source": [
    "**Make Predictions on Test Set**"
   ]
  },
  {
   "cell_type": "code",
   "execution_count": 24,
   "id": "7a112cfe",
   "metadata": {},
   "outputs": [],
   "source": [
    "y_pred1 = model1.predict(X_test)"
   ]
  },
  {
   "cell_type": "markdown",
   "id": "a06959fa",
   "metadata": {},
   "source": [
    "**Model 1 Metrics**\n",
    "\n",
    "_Accuracy Score_"
   ]
  },
  {
   "cell_type": "code",
   "execution_count": 25,
   "id": "b2949308",
   "metadata": {},
   "outputs": [
    {
     "name": "stdout",
     "output_type": "stream",
     "text": [
      "Accuracy Score of Model 1: 1.0\n"
     ]
    }
   ],
   "source": [
    "acc1 = accuracy_score(y_pred1, y_test)\n",
    "print(f\"Accuracy Score of Model 1: {acc1.round(2)}\")"
   ]
  },
  {
   "cell_type": "markdown",
   "id": "9e7a1ebd",
   "metadata": {},
   "source": [
    "Logistic regression models tend to overfit the data, particularly in high-dimensional settings.\n",
    "I will try to avoid overfitting using a **Regularization** method"
   ]
  },
  {
   "cell_type": "markdown",
   "id": "d6eee1eb",
   "metadata": {},
   "source": [
    "## Ridge Regularization (L2) - Logistic Regression\n"
   ]
  },
  {
   "cell_type": "markdown",
   "id": "afddebbf",
   "metadata": {},
   "source": [
    "**Create and Train Model 2**"
   ]
  },
  {
   "cell_type": "code",
   "execution_count": 26,
   "id": "1ca1d0f4",
   "metadata": {},
   "outputs": [
    {
     "data": {
      "text/plain": [
       "LogisticRegression(random_state=42, solver='liblinear')"
      ]
     },
     "execution_count": 26,
     "metadata": {},
     "output_type": "execute_result"
    }
   ],
   "source": [
    "# Create LogisticRegression() model with L2 Regularization (parameter C controls the strength of regularization)\n",
    "\n",
    "reg_model2 = LogisticRegression(penalty='l2', C=1.0, solver='liblinear', random_state=42)\n",
    "\n",
    "# Train model2 with train subset\n",
    "reg_model2.fit(X_train, y_train)\n"
   ]
  },
  {
   "cell_type": "markdown",
   "id": "76494ce8",
   "metadata": {},
   "source": [
    "**Make Predictions on Test Set**"
   ]
  },
  {
   "cell_type": "code",
   "execution_count": 27,
   "id": "28f456d3",
   "metadata": {},
   "outputs": [],
   "source": [
    "y_pred2 = reg_model2.predict(X_test)"
   ]
  },
  {
   "cell_type": "markdown",
   "id": "2745bbd7",
   "metadata": {},
   "source": [
    "**Model 2 Metrics**\n",
    "\n",
    "_Accuracy Score_"
   ]
  },
  {
   "cell_type": "code",
   "execution_count": 28,
   "id": "0c0f5100",
   "metadata": {},
   "outputs": [
    {
     "name": "stdout",
     "output_type": "stream",
     "text": [
      "Accuracy Score of Model 2: 1.0\n"
     ]
    }
   ],
   "source": [
    "acc2 = accuracy_score(y_test, y_pred2)\n",
    "print(f\"Accuracy Score of Model 2: {acc2.round(2)}\")"
   ]
  },
  {
   "cell_type": "markdown",
   "id": "ee49eb71",
   "metadata": {},
   "source": [
    "**Confusion Matrix**"
   ]
  },
  {
   "cell_type": "code",
   "execution_count": 29,
   "id": "c2b2bcd1",
   "metadata": {},
   "outputs": [
    {
     "name": "stdout",
     "output_type": "stream",
     "text": [
      "Confusion Matrix:\n",
      "[[7727    0]\n",
      " [   0  118]]\n"
     ]
    }
   ],
   "source": [
    "confusion_mat = confusion_matrix(y_test, y_pred2)\n",
    "print(\"Confusion Matrix:\")\n",
    "print(confusion_mat)"
   ]
  },
  {
   "cell_type": "code",
   "execution_count": 30,
   "id": "85c3f0d1",
   "metadata": {
    "scrolled": false
   },
   "outputs": [
    {
     "data": {
      "image/png": "[encoded data removed]",
      "text/plain": [
       "<Figure size 640x480 with 2 Axes>"
      ]
     },
     "metadata": {},
     "output_type": "display_data"
    }
   ],
   "source": [
    "sns.heatmap(confusion_mat, annot = True, fmt=\"d\", cmap=\"viridis\")\n",
    "\n",
    "plt.xlabel(\"Predicted\")\n",
    "plt.ylabel(\"Real\")\n",
    "plt.title(\"Model 2 (L2 Reg) Confusion Matrix\\n\", fontsize = 18)\n",
    "\n",
    "plt.show()"
   ]
  },
  {
   "cell_type": "markdown",
   "id": "faea6471",
   "metadata": {},
   "source": [
    "## Hyperparameter Tuning - XGBoost & Randomized Search CV"
   ]
  },
  {
   "cell_type": "markdown",
   "id": "81b1faf8",
   "metadata": {},
   "source": [
    "**Create XGBoost Classifier model**"
   ]
  },
  {
   "cell_type": "code",
   "execution_count": 31,
   "id": "aea90830",
   "metadata": {},
   "outputs": [],
   "source": [
    "boost = xgb.XGBClassifier()"
   ]
  },
  {
   "cell_type": "markdown",
   "id": "de73c9df",
   "metadata": {},
   "source": [
    "**Defining my Hyperparameters to Tune**"
   ]
  },
  {
   "cell_type": "code",
   "execution_count": 33,
   "id": "ba9477f2",
   "metadata": {},
   "outputs": [],
   "source": [
    "param_dict = {\n",
    "    'max_depth': [3, 5, 7],\n",
    "    'learning_rate': [0.01, 0.1, 1.0], # Learning Rate\n",
    "    'n_estimators': [50, 75, 100], # Nr of trees to be built\n",
    "    'subsample': [0.5, 0.9, 1.0], # Portion of used samples\n",
    "    'gamma': [0, 1, 5] # Minimum Loss per Partition\n",
    "}"
   ]
  },
  {
   "cell_type": "markdown",
   "id": "4ba73c7c",
   "metadata": {},
   "source": [
    "**Randomized Search with Cross Validation, looking for the best hyperparameter combination for my classification model**"
   ]
  },
  {
   "cell_type": "code",
   "execution_count": 34,
   "id": "be9d5326",
   "metadata": {},
   "outputs": [],
   "source": [
    "random_search = RandomizedSearchCV(boost, param_dict, scoring = 'accuracy',\n",
    "                                   cv = 15, n_iter = 25)"
   ]
  },
  {
   "cell_type": "markdown",
   "id": "17d3832d",
   "metadata": {},
   "source": [
    "**Train my model with previous train subsets**"
   ]
  },
  {
   "cell_type": "code",
   "execution_count": 35,
   "id": "ef2308ea",
   "metadata": {},
   "outputs": [
    {
     "data": {
      "text/plain": [
       "RandomizedSearchCV(cv=15,\n",
       "                   estimator=XGBClassifier(base_score=None, booster=None,\n",
       "                                           callbacks=None,\n",
       "                                           colsample_bylevel=None,\n",
       "                                           colsample_bynode=None,\n",
       "                                           colsample_bytree=None,\n",
       "                                           early_stopping_rounds=None,\n",
       "                                           enable_categorical=False,\n",
       "                                           eval_metric=None, feature_types=None,\n",
       "                                           gamma=None, gpu_id=None,\n",
       "                                           grow_policy=None,\n",
       "                                           importance_type=None,\n",
       "                                           interaction_constraints=None,\n",
       "                                           learning_rat...\n",
       "                                           max_delta_step=None, max_depth=None,\n",
       "                                           max_leaves=None,\n",
       "                                           min_child_weight=None, missing=nan,\n",
       "                                           monotone_constraints=None,\n",
       "                                           n_estimators=100, n_jobs=None,\n",
       "                                           num_parallel_tree=None,\n",
       "                                           predictor=None, random_state=None, ...),\n",
       "                   n_iter=25,\n",
       "                   param_distributions={'gamma': [0, 1, 5],\n",
       "                                        'learning_rate': [0.01, 0.1, 1.0],\n",
       "                                        'max_depth': [3, 5, 7],\n",
       "                                        'n_estimators': [50, 75, 100],\n",
       "                                        'subsample': [0.5, 0.9, 1.0]},\n",
       "                   scoring='accuracy')"
      ]
     },
     "execution_count": 35,
     "metadata": {},
     "output_type": "execute_result"
    }
   ],
   "source": [
    "random_search.fit(X_train, y_train)"
   ]
  },
  {
   "cell_type": "markdown",
   "id": "abba4914",
   "metadata": {},
   "source": [
    "**Exploring which are the best parameters and the best model according to my search**"
   ]
  },
  {
   "cell_type": "code",
   "execution_count": 36,
   "id": "ef6acd9d",
   "metadata": {},
   "outputs": [],
   "source": [
    "best_params = random_search.best_params_\n",
    "best_model = random_search.best_estimator_"
   ]
  },
  {
   "cell_type": "markdown",
   "id": "af8ed32f",
   "metadata": {},
   "source": [
    "**Predicting using best model**"
   ]
  },
  {
   "cell_type": "code",
   "execution_count": 37,
   "id": "5e430953",
   "metadata": {},
   "outputs": [],
   "source": [
    "y_pred3 = best_model.predict(X_test)"
   ]
  },
  {
   "cell_type": "markdown",
   "id": "16507995",
   "metadata": {},
   "source": [
    "**Estimating accuracy for best_model**"
   ]
  },
  {
   "cell_type": "code",
   "execution_count": 38,
   "id": "3505a2ce",
   "metadata": {
    "scrolled": true
   },
   "outputs": [
    {
     "name": "stdout",
     "output_type": "stream",
     "text": [
      "Accuracy Score of Model 3: 1.0\n"
     ]
    }
   ],
   "source": [
    "acc3 = accuracy_score(y_test, y_pred3)\n",
    "print(f\"Accuracy Score of Model 3: {acc3.round(2)}\")"
   ]
  },
  {
   "cell_type": "markdown",
   "id": "a7c18ba2",
   "metadata": {},
   "source": [
    "**Estimating Confusion Matrix**"
   ]
  },
  {
   "cell_type": "code",
   "execution_count": 39,
   "id": "8721e8c0",
   "metadata": {},
   "outputs": [],
   "source": [
    "confusion_mat3 = confusion_matrix(y_test, y_pred3)"
   ]
  },
  {
   "cell_type": "code",
   "execution_count": 40,
   "id": "6c3adaac",
   "metadata": {},
   "outputs": [
    {
     "data": {
      "image/png": "[encoded data removed]",
      "text/plain": [
       "<Figure size 640x480 with 2 Axes>"
      ]
     },
     "metadata": {},
     "output_type": "display_data"
    }
   ],
   "source": [
    "sns.heatmap(confusion_mat3, annot = True, fmt=\"d\", cmap=\"viridis\")\n",
    "\n",
    "plt.xlabel(\"Predicted\")\n",
    "plt.ylabel(\"Real\")\n",
    "plt.title(\"Model 3 Confusion Matrix\\n\", fontsize = 18)\n",
    "\n",
    "plt.show()"
   ]
  },
  {
   "cell_type": "markdown",
   "id": "842df0b4",
   "metadata": {},
   "source": [
    "**Classification Report**"
   ]
  },
  {
   "cell_type": "code",
   "execution_count": 42,
   "id": "d6cf424b",
   "metadata": {},
   "outputs": [
    {
     "name": "stdout",
     "output_type": "stream",
     "text": [
      "Classification Report: \n",
      "\n",
      "              precision    recall  f1-score   support\n",
      "\n",
      "           0       1.00      1.00      1.00      7727\n",
      "           1       1.00      1.00      1.00       118\n",
      "\n",
      "    accuracy                           1.00      7845\n",
      "   macro avg       1.00      1.00      1.00      7845\n",
      "weighted avg       1.00      1.00      1.00      7845\n",
      "\n"
     ]
    }
   ],
   "source": [
    "class_rep = classification_report(y_test, y_pred3)\n",
    "print(\"Classification Report: \\n\")\n",
    "print(class_rep)"
   ]
  },
  {
   "cell_type": "markdown",
   "id": "6bf3e4fe",
   "metadata": {},
   "source": [
    "## Conclusion"
   ]
  },
  {
   "cell_type": "markdown",
   "id": "cdfed6f4",
   "metadata": {},
   "source": [
    "**Apparently, Model 1 seems to be overfitted because of the 100% prediction accuracy, but as I use Ridge Regularization on Model 2 Logistic Regression for penalizing, we get the same accuracy. The same thing occurs when I created and trained a XGBoost model optimized using Randomized Search. Having 100% accuracy in prediction makes even more sense when I check the confusion matrix of each model.**\n",
    "\n",
    "**Either way, I would tend to use Model 3, since it is methodologically more adequate and reliable, since it should account for overfitting as well.**"
   ]
  },
  {
   "cell_type": "code",
   "execution_count": null,
   "id": "98372884",
   "metadata": {},
   "outputs": [],
   "source": []
  }
 ],
 "metadata": {
  "kernelspec": {
   "display_name": "Python 3 (ipykernel)",
   "language": "python",
   "name": "python3"
  },
  "language_info": {
   "codemirror_mode": {
    "name": "ipython",
    "version": 3
   },
   "file_extension": ".py",
   "mimetype": "text/x-python",
   "name": "python",
   "nbconvert_exporter": "python",
   "pygments_lexer": "ipython3",
   "version": "3.9.13"
  }
 },
 "nbformat": 4,
 "nbformat_minor": 5
}
